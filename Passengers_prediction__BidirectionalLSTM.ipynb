{
  "nbformat": 4,
  "nbformat_minor": 0,
  "metadata": {
    "colab": {
      "provenance": [],
      "authorship_tag": "ABX9TyOsgUkayMWAFC578xkox3bF",
      "include_colab_link": true
    },
    "kernelspec": {
      "name": "python3",
      "display_name": "Python 3"
    },
    "language_info": {
      "name": "python"
    }
  },
  "cells": [
    {
      "cell_type": "markdown",
      "metadata": {
        "id": "view-in-github",
        "colab_type": "text"
      },
      "source": [
        "<a href=\"https://colab.research.google.com/github/Alexiserges/Passengers-prediction-_BidirectionalLSTM/blob/main/Passengers_prediction__BidirectionalLSTM.ipynb\" target=\"_parent\"><img src=\"https://colab.research.google.com/assets/colab-badge.svg\" alt=\"Open In Colab\"/></a>"
      ]
    },
    {
      "cell_type": "markdown",
      "source": [
        "International Airline Passengers prediction problem.\n",
        "This is a problem where, given a year and a month, the Objective is to predict \n",
        "the number of international airline passengers in units of 1,000 using BidirectionalLSTM model. \n",
        "The data ranges from January 1949 to December 1960, or 12 years, with 144 observations."
      ],
      "metadata": {
        "id": "LwJLP4fn1-HI"
      }
    },
    {
      "cell_type": "code",
      "execution_count": 1,
      "metadata": {
        "id": "oJVQ_eY41jY7"
      },
      "outputs": [],
      "source": [
        "##Let import the library\n",
        "\n",
        "import numpy as np\n",
        "import matplotlib.pyplot as plt\n",
        "from pandas import read_csv\n",
        "import math\n",
        "\n",
        "from keras.models import Sequential\n",
        "from keras.layers import Dense\n",
        "from keras.layers import LSTM, Flatten\n",
        "from sklearn.preprocessing import MinMaxScaler\n",
        "from sklearn.metrics import mean_squared_error\n",
        "#from keras.callbacks import EarlyStopping\n",
        "from keras.layers import ConvLSTM2D"
      ]
    },
    {
      "cell_type": "code",
      "source": [
        "# load the dataset\n",
        "dataframe = read_csv('AirPassengers.csv', usecols=[1])\n",
        "plt.plot(dataframe)"
      ],
      "metadata": {
        "colab": {
          "base_uri": "https://localhost:8080/",
          "height": 282
        },
        "id": "T0aunYYG2tuQ",
        "outputId": "ff8ad24a-05a7-4d9e-f4d6-67d96e08cea6"
      },
      "execution_count": 3,
      "outputs": [
        {
          "output_type": "execute_result",
          "data": {
            "text/plain": [
              "[<matplotlib.lines.Line2D at 0x7f28d8729df0>]"
            ]
          },
          "metadata": {},
          "execution_count": 3
        },
        {
          "output_type": "display_data",
          "data": {
            "text/plain": [
              "<Figure size 432x288 with 1 Axes>"
            ],
            "image/png": "[encoded data removed]"
          },
          "metadata": {
            "needs_background": "light"
          }
        }
      ]
    },
    {
      "cell_type": "code",
      "source": [
        "#Convert pandas dataframe to numpy array\n",
        "dataset = dataframe.values\n",
        "dataset = dataset.astype('float32') #COnvert values to float"
      ],
      "metadata": {
        "id": "qEDzZN802tqF"
      },
      "execution_count": 5,
      "outputs": []
    },
    {
      "cell_type": "code",
      "source": [
        "#LSTM uses sigmoid and tanh that are sensitive to magnitude so values need to be normalized\n",
        "# normalize the dataset\n",
        "scaler = MinMaxScaler(feature_range=(0, 1)) #Also try QuantileTransformer\n",
        "dataset = scaler.fit_transform(dataset)"
      ],
      "metadata": {
        "id": "5xbLQVtG2tnF"
      },
      "execution_count": 6,
      "outputs": []
    },
    {
      "cell_type": "code",
      "source": [
        "#We cannot use random way of splitting dataset into train and test as\n",
        "#the sequence of events is important for time series.\n",
        "#So let us take first 70% values for train and the remaining 1/3 for testing\n",
        "# split into train and test sets\n",
        "train_size = int(len(dataset) * 0.70)\n",
        "test_size = len(dataset) - train_size\n",
        "train, test = dataset[0:train_size,:], dataset[train_size:len(dataset),:]"
      ],
      "metadata": {
        "id": "0eafS5oh2tj2"
      },
      "execution_count": 7,
      "outputs": []
    },
    {
      "cell_type": "markdown",
      "source": [
        "#####We cannot fit the model like we normally do for image processing where we have X and Y. \n",
        "#####We need to transform our data into something that looks like X and Y values.\n",
        "#####This way it can be trained on a sequence rather than indvidual datapoints. \n",
        "#####Let us convert into n number of columns for X where we feed sequence of numbers then the final column as Y where we provide the next number in the sequence as output.\n",
        "#####So let us convert an array of values into a dataset matrix"
      ],
      "metadata": {
        "id": "99J8IBNc39-8"
      }
    },
    {
      "cell_type": "markdown",
      "source": [
        "#####seq_size is the number of previous time steps to use as \n",
        "#####input variables to predict the next time period.\n",
        "\n",
        "\n",
        "#####creates a dataset where X is the number of passengers at a given time (t, t-1, t-2...) \n",
        "#####and Y is the number of passengers at the next time (t + 1)."
      ],
      "metadata": {
        "id": "9PHC9IrO4m5Q"
      }
    },
    {
      "cell_type": "code",
      "source": [
        "def to_sequences(dataset, seq_size=1):\n",
        "    x = []\n",
        "    y = []\n",
        "\n",
        "    for i in range(len(dataset)-seq_size-1):\n",
        "        #print(i)\n",
        "        window = dataset[i:(i+seq_size), 0]\n",
        "        x.append(window)\n",
        "        y.append(dataset[i+seq_size, 0])\n",
        "        \n",
        "    return np.array(x),np.array(y)"
      ],
      "metadata": {
        "id": "bQjaoLjA2tgh"
      },
      "execution_count": 8,
      "outputs": []
    },
    {
      "cell_type": "code",
      "source": [
        "seq_size = 10  # Number of time steps to look back \n",
        "#Larger sequences (look further back) may improve forecasting."
      ],
      "metadata": {
        "id": "9QRFSkNj2tc6"
      },
      "execution_count": 23,
      "outputs": []
    },
    {
      "cell_type": "code",
      "source": [
        "trainX, trainY = to_sequences(train, seq_size)\n",
        "testX, testY = to_sequences(test, seq_size)"
      ],
      "metadata": {
        "id": "DDMzyFQ05EBT"
      },
      "execution_count": 24,
      "outputs": []
    },
    {
      "cell_type": "code",
      "source": [
        "print(\"Shape of training set: {}\".format(trainX.shape))\n",
        "print(\"Shape of test set: {}\".format(testX.shape))"
      ],
      "metadata": {
        "colab": {
          "base_uri": "https://localhost:8080/"
        },
        "id": "-CuCl8oL5D-E",
        "outputId": "8903da30-ec43-4bc7-82a6-64bb0e224750"
      },
      "execution_count": 25,
      "outputs": [
        {
          "output_type": "stream",
          "name": "stdout",
          "text": [
            "Shape of training set: (89, 10)\n",
            "Shape of test set: (33, 10)\n"
          ]
        }
      ]
    },
    {
      "cell_type": "markdown",
      "source": [
        "#Bidirectional LSTM\n",
        "#The layer expects input as a sequence of two-dimensional images, \n",
        "#reshape input to be [samples, time steps, features]"
      ],
      "metadata": {
        "id": "1fDZjqSD5tlI"
      }
    },
    {
      "cell_type": "code",
      "source": [
        "\n",
        "# reshape input to be [samples, time steps, features]\n",
        "trainX = np.reshape(trainX, (trainX.shape[0], 1, trainX.shape[1]))\n",
        "testX = np.reshape(testX, (testX.shape[0], 1, testX.shape[1]))\n"
      ],
      "metadata": {
        "id": "fDfUmuy65D7A"
      },
      "execution_count": 26,
      "outputs": []
    },
    {
      "cell_type": "code",
      "source": [
        "##For some sequence forecasting problems we may need LSTM to learn\n",
        "## sequence in both forward and backward directions\n",
        "from keras.layers import Bidirectional\n",
        "model = Sequential()\n",
        "model.add(Bidirectional(LSTM(50, activation='relu'), input_shape=(None, seq_size)))\n",
        "model.add(Dense(1))\n",
        "model.compile(optimizer='adam', loss='mean_squared_error')\n",
        "model.summary()\n",
        "print('Train...')"
      ],
      "metadata": {
        "colab": {
          "base_uri": "https://localhost:8080/"
        },
        "id": "JIrh7OxKBRn7",
        "outputId": "118476bf-a1aa-409f-c1f9-c3f8af48ba85"
      },
      "execution_count": 28,
      "outputs": [
        {
          "output_type": "stream",
          "name": "stdout",
          "text": [
            "Model: \"sequential_2\"\n",
            "_________________________________________________________________\n",
            " Layer (type)                Output Shape              Param #   \n",
            "=================================================================\n",
            " bidirectional_1 (Bidirectio  (None, 100)              24400     \n",
            " nal)                                                            \n",
            "                                                                 \n",
            " dense_3 (Dense)             (None, 1)                 101       \n",
            "                                                                 \n",
            "=================================================================\n",
            "Total params: 24,501\n",
            "Trainable params: 24,501\n",
            "Non-trainable params: 0\n",
            "_________________________________________________________________\n",
            "Train...\n"
          ]
        }
      ]
    },
    {
      "cell_type": "code",
      "source": [
        "model.fit(trainX, trainY, validation_data=(testX, testY),\n",
        "          verbose=2, epochs=100)"
      ],
      "metadata": {
        "colab": {
          "base_uri": "https://localhost:8080/"
        },
        "id": "vKt92uVo5D0i",
        "outputId": "9d62b04c-9a2a-4770-c81e-86c721929ff9"
      },
      "execution_count": 29,
      "outputs": [
        {
          "output_type": "stream",
          "name": "stdout",
          "text": [
            "Epoch 1/100\n",
            "3/3 - 3s - loss: 0.0775 - val_loss: 0.4021 - 3s/epoch - 895ms/step\n",
            "Epoch 2/100\n",
            "3/3 - 0s - loss: 0.0666 - val_loss: 0.3512 - 40ms/epoch - 13ms/step\n",
            "Epoch 3/100\n",
            "3/3 - 0s - loss: 0.0568 - val_loss: 0.3046 - 37ms/epoch - 12ms/step\n",
            "Epoch 4/100\n",
            "3/3 - 0s - loss: 0.0484 - val_loss: 0.2613 - 36ms/epoch - 12ms/step\n",
            "Epoch 5/100\n",
            "3/3 - 0s - loss: 0.0410 - val_loss: 0.2209 - 36ms/epoch - 12ms/step\n",
            "Epoch 6/100\n",
            "3/3 - 0s - loss: 0.0333 - val_loss: 0.1836 - 46ms/epoch - 15ms/step\n",
            "Epoch 7/100\n",
            "3/3 - 0s - loss: 0.0267 - val_loss: 0.1489 - 57ms/epoch - 19ms/step\n",
            "Epoch 8/100\n",
            "3/3 - 0s - loss: 0.0212 - val_loss: 0.1171 - 40ms/epoch - 13ms/step\n",
            "Epoch 9/100\n",
            "3/3 - 0s - loss: 0.0161 - val_loss: 0.0890 - 39ms/epoch - 13ms/step\n",
            "Epoch 10/100\n",
            "3/3 - 0s - loss: 0.0120 - val_loss: 0.0653 - 41ms/epoch - 14ms/step\n",
            "Epoch 11/100\n",
            "3/3 - 0s - loss: 0.0092 - val_loss: 0.0466 - 37ms/epoch - 12ms/step\n",
            "Epoch 12/100\n",
            "3/3 - 0s - loss: 0.0069 - val_loss: 0.0338 - 38ms/epoch - 13ms/step\n",
            "Epoch 13/100\n",
            "3/3 - 0s - loss: 0.0057 - val_loss: 0.0262 - 38ms/epoch - 13ms/step\n",
            "Epoch 14/100\n",
            "3/3 - 0s - loss: 0.0053 - val_loss: 0.0227 - 38ms/epoch - 13ms/step\n",
            "Epoch 15/100\n",
            "3/3 - 0s - loss: 0.0053 - val_loss: 0.0218 - 54ms/epoch - 18ms/step\n",
            "Epoch 16/100\n",
            "3/3 - 0s - loss: 0.0055 - val_loss: 0.0218 - 42ms/epoch - 14ms/step\n",
            "Epoch 17/100\n",
            "3/3 - 0s - loss: 0.0057 - val_loss: 0.0219 - 42ms/epoch - 14ms/step\n",
            "Epoch 18/100\n",
            "3/3 - 0s - loss: 0.0057 - val_loss: 0.0217 - 44ms/epoch - 15ms/step\n",
            "Epoch 19/100\n",
            "3/3 - 0s - loss: 0.0056 - val_loss: 0.0215 - 40ms/epoch - 13ms/step\n",
            "Epoch 20/100\n",
            "3/3 - 0s - loss: 0.0053 - val_loss: 0.0214 - 56ms/epoch - 19ms/step\n",
            "Epoch 21/100\n",
            "3/3 - 0s - loss: 0.0052 - val_loss: 0.0215 - 39ms/epoch - 13ms/step\n",
            "Epoch 22/100\n",
            "3/3 - 0s - loss: 0.0050 - val_loss: 0.0219 - 38ms/epoch - 13ms/step\n",
            "Epoch 23/100\n",
            "3/3 - 0s - loss: 0.0049 - val_loss: 0.0222 - 40ms/epoch - 13ms/step\n",
            "Epoch 24/100\n",
            "3/3 - 0s - loss: 0.0049 - val_loss: 0.0225 - 39ms/epoch - 13ms/step\n",
            "Epoch 25/100\n",
            "3/3 - 0s - loss: 0.0049 - val_loss: 0.0227 - 38ms/epoch - 13ms/step\n",
            "Epoch 26/100\n",
            "3/3 - 0s - loss: 0.0049 - val_loss: 0.0227 - 39ms/epoch - 13ms/step\n",
            "Epoch 27/100\n",
            "3/3 - 0s - loss: 0.0048 - val_loss: 0.0225 - 36ms/epoch - 12ms/step\n",
            "Epoch 28/100\n",
            "3/3 - 0s - loss: 0.0048 - val_loss: 0.0221 - 55ms/epoch - 18ms/step\n",
            "Epoch 29/100\n",
            "3/3 - 0s - loss: 0.0047 - val_loss: 0.0217 - 39ms/epoch - 13ms/step\n",
            "Epoch 30/100\n",
            "3/3 - 0s - loss: 0.0047 - val_loss: 0.0212 - 38ms/epoch - 13ms/step\n",
            "Epoch 31/100\n",
            "3/3 - 0s - loss: 0.0046 - val_loss: 0.0209 - 42ms/epoch - 14ms/step\n",
            "Epoch 32/100\n",
            "3/3 - 0s - loss: 0.0046 - val_loss: 0.0206 - 39ms/epoch - 13ms/step\n",
            "Epoch 33/100\n",
            "3/3 - 0s - loss: 0.0046 - val_loss: 0.0203 - 38ms/epoch - 13ms/step\n",
            "Epoch 34/100\n",
            "3/3 - 0s - loss: 0.0045 - val_loss: 0.0202 - 38ms/epoch - 13ms/step\n",
            "Epoch 35/100\n",
            "3/3 - 0s - loss: 0.0045 - val_loss: 0.0200 - 38ms/epoch - 13ms/step\n",
            "Epoch 36/100\n",
            "3/3 - 0s - loss: 0.0045 - val_loss: 0.0199 - 38ms/epoch - 13ms/step\n",
            "Epoch 37/100\n",
            "3/3 - 0s - loss: 0.0044 - val_loss: 0.0198 - 43ms/epoch - 14ms/step\n",
            "Epoch 38/100\n",
            "3/3 - 0s - loss: 0.0044 - val_loss: 0.0197 - 41ms/epoch - 14ms/step\n",
            "Epoch 39/100\n",
            "3/3 - 0s - loss: 0.0044 - val_loss: 0.0196 - 43ms/epoch - 14ms/step\n",
            "Epoch 40/100\n",
            "3/3 - 0s - loss: 0.0044 - val_loss: 0.0194 - 38ms/epoch - 13ms/step\n",
            "Epoch 41/100\n",
            "3/3 - 0s - loss: 0.0043 - val_loss: 0.0193 - 37ms/epoch - 12ms/step\n",
            "Epoch 42/100\n",
            "3/3 - 0s - loss: 0.0043 - val_loss: 0.0192 - 38ms/epoch - 13ms/step\n",
            "Epoch 43/100\n",
            "3/3 - 0s - loss: 0.0043 - val_loss: 0.0191 - 42ms/epoch - 14ms/step\n",
            "Epoch 44/100\n",
            "3/3 - 0s - loss: 0.0042 - val_loss: 0.0190 - 39ms/epoch - 13ms/step\n",
            "Epoch 45/100\n",
            "3/3 - 0s - loss: 0.0042 - val_loss: 0.0188 - 38ms/epoch - 13ms/step\n",
            "Epoch 46/100\n",
            "3/3 - 0s - loss: 0.0042 - val_loss: 0.0187 - 44ms/epoch - 15ms/step\n",
            "Epoch 47/100\n",
            "3/3 - 0s - loss: 0.0041 - val_loss: 0.0186 - 36ms/epoch - 12ms/step\n",
            "Epoch 48/100\n",
            "3/3 - 0s - loss: 0.0041 - val_loss: 0.0185 - 37ms/epoch - 12ms/step\n",
            "Epoch 49/100\n",
            "3/3 - 0s - loss: 0.0041 - val_loss: 0.0185 - 41ms/epoch - 14ms/step\n",
            "Epoch 50/100\n",
            "3/3 - 0s - loss: 0.0040 - val_loss: 0.0184 - 37ms/epoch - 12ms/step\n",
            "Epoch 51/100\n",
            "3/3 - 0s - loss: 0.0040 - val_loss: 0.0183 - 60ms/epoch - 20ms/step\n",
            "Epoch 52/100\n",
            "3/3 - 0s - loss: 0.0040 - val_loss: 0.0181 - 38ms/epoch - 13ms/step\n",
            "Epoch 53/100\n",
            "3/3 - 0s - loss: 0.0040 - val_loss: 0.0180 - 38ms/epoch - 13ms/step\n",
            "Epoch 54/100\n",
            "3/3 - 0s - loss: 0.0039 - val_loss: 0.0179 - 41ms/epoch - 14ms/step\n",
            "Epoch 55/100\n",
            "3/3 - 0s - loss: 0.0039 - val_loss: 0.0178 - 38ms/epoch - 13ms/step\n",
            "Epoch 56/100\n",
            "3/3 - 0s - loss: 0.0039 - val_loss: 0.0177 - 39ms/epoch - 13ms/step\n",
            "Epoch 57/100\n",
            "3/3 - 0s - loss: 0.0038 - val_loss: 0.0176 - 39ms/epoch - 13ms/step\n",
            "Epoch 58/100\n",
            "3/3 - 0s - loss: 0.0038 - val_loss: 0.0176 - 40ms/epoch - 13ms/step\n",
            "Epoch 59/100\n",
            "3/3 - 0s - loss: 0.0038 - val_loss: 0.0175 - 38ms/epoch - 13ms/step\n",
            "Epoch 60/100\n",
            "3/3 - 0s - loss: 0.0038 - val_loss: 0.0175 - 42ms/epoch - 14ms/step\n",
            "Epoch 61/100\n",
            "3/3 - 0s - loss: 0.0037 - val_loss: 0.0174 - 42ms/epoch - 14ms/step\n",
            "Epoch 62/100\n",
            "3/3 - 0s - loss: 0.0037 - val_loss: 0.0173 - 38ms/epoch - 13ms/step\n",
            "Epoch 63/100\n",
            "3/3 - 0s - loss: 0.0037 - val_loss: 0.0172 - 37ms/epoch - 12ms/step\n",
            "Epoch 64/100\n",
            "3/3 - 0s - loss: 0.0036 - val_loss: 0.0171 - 37ms/epoch - 12ms/step\n",
            "Epoch 65/100\n",
            "3/3 - 0s - loss: 0.0036 - val_loss: 0.0170 - 39ms/epoch - 13ms/step\n",
            "Epoch 66/100\n",
            "3/3 - 0s - loss: 0.0036 - val_loss: 0.0170 - 43ms/epoch - 14ms/step\n",
            "Epoch 67/100\n",
            "3/3 - 0s - loss: 0.0036 - val_loss: 0.0169 - 38ms/epoch - 13ms/step\n",
            "Epoch 68/100\n",
            "3/3 - 0s - loss: 0.0035 - val_loss: 0.0170 - 38ms/epoch - 13ms/step\n",
            "Epoch 69/100\n",
            "3/3 - 0s - loss: 0.0035 - val_loss: 0.0168 - 60ms/epoch - 20ms/step\n",
            "Epoch 70/100\n",
            "3/3 - 0s - loss: 0.0035 - val_loss: 0.0169 - 39ms/epoch - 13ms/step\n",
            "Epoch 71/100\n",
            "3/3 - 0s - loss: 0.0034 - val_loss: 0.0169 - 38ms/epoch - 13ms/step\n",
            "Epoch 72/100\n",
            "3/3 - 0s - loss: 0.0034 - val_loss: 0.0166 - 41ms/epoch - 14ms/step\n",
            "Epoch 73/100\n",
            "3/3 - 0s - loss: 0.0034 - val_loss: 0.0165 - 37ms/epoch - 12ms/step\n",
            "Epoch 74/100\n",
            "3/3 - 0s - loss: 0.0034 - val_loss: 0.0164 - 48ms/epoch - 16ms/step\n",
            "Epoch 75/100\n",
            "3/3 - 0s - loss: 0.0033 - val_loss: 0.0164 - 38ms/epoch - 13ms/step\n",
            "Epoch 76/100\n",
            "3/3 - 0s - loss: 0.0033 - val_loss: 0.0163 - 39ms/epoch - 13ms/step\n",
            "Epoch 77/100\n",
            "3/3 - 0s - loss: 0.0033 - val_loss: 0.0162 - 38ms/epoch - 13ms/step\n",
            "Epoch 78/100\n",
            "3/3 - 0s - loss: 0.0032 - val_loss: 0.0160 - 37ms/epoch - 12ms/step\n",
            "Epoch 79/100\n",
            "3/3 - 0s - loss: 0.0032 - val_loss: 0.0158 - 41ms/epoch - 14ms/step\n",
            "Epoch 80/100\n",
            "3/3 - 0s - loss: 0.0032 - val_loss: 0.0157 - 37ms/epoch - 12ms/step\n",
            "Epoch 81/100\n",
            "3/3 - 0s - loss: 0.0032 - val_loss: 0.0159 - 37ms/epoch - 12ms/step\n",
            "Epoch 82/100\n",
            "3/3 - 0s - loss: 0.0031 - val_loss: 0.0160 - 40ms/epoch - 13ms/step\n",
            "Epoch 83/100\n",
            "3/3 - 0s - loss: 0.0031 - val_loss: 0.0160 - 44ms/epoch - 15ms/step\n",
            "Epoch 84/100\n",
            "3/3 - 0s - loss: 0.0031 - val_loss: 0.0156 - 39ms/epoch - 13ms/step\n",
            "Epoch 85/100\n",
            "3/3 - 0s - loss: 0.0031 - val_loss: 0.0156 - 43ms/epoch - 14ms/step\n",
            "Epoch 86/100\n",
            "3/3 - 0s - loss: 0.0030 - val_loss: 0.0154 - 40ms/epoch - 13ms/step\n",
            "Epoch 87/100\n",
            "3/3 - 0s - loss: 0.0030 - val_loss: 0.0155 - 40ms/epoch - 13ms/step\n",
            "Epoch 88/100\n",
            "3/3 - 0s - loss: 0.0030 - val_loss: 0.0153 - 40ms/epoch - 13ms/step\n",
            "Epoch 89/100\n",
            "3/3 - 0s - loss: 0.0029 - val_loss: 0.0153 - 38ms/epoch - 13ms/step\n",
            "Epoch 90/100\n",
            "3/3 - 0s - loss: 0.0029 - val_loss: 0.0152 - 39ms/epoch - 13ms/step\n",
            "Epoch 91/100\n",
            "3/3 - 0s - loss: 0.0029 - val_loss: 0.0153 - 40ms/epoch - 13ms/step\n",
            "Epoch 92/100\n",
            "3/3 - 0s - loss: 0.0029 - val_loss: 0.0151 - 39ms/epoch - 13ms/step\n",
            "Epoch 93/100\n",
            "3/3 - 0s - loss: 0.0028 - val_loss: 0.0152 - 39ms/epoch - 13ms/step\n",
            "Epoch 94/100\n",
            "3/3 - 0s - loss: 0.0028 - val_loss: 0.0150 - 55ms/epoch - 18ms/step\n",
            "Epoch 95/100\n",
            "3/3 - 0s - loss: 0.0028 - val_loss: 0.0148 - 43ms/epoch - 14ms/step\n",
            "Epoch 96/100\n",
            "3/3 - 0s - loss: 0.0028 - val_loss: 0.0146 - 57ms/epoch - 19ms/step\n",
            "Epoch 97/100\n",
            "3/3 - 0s - loss: 0.0027 - val_loss: 0.0144 - 55ms/epoch - 18ms/step\n",
            "Epoch 98/100\n",
            "3/3 - 0s - loss: 0.0027 - val_loss: 0.0146 - 44ms/epoch - 15ms/step\n",
            "Epoch 99/100\n",
            "3/3 - 0s - loss: 0.0027 - val_loss: 0.0153 - 42ms/epoch - 14ms/step\n",
            "Epoch 100/100\n",
            "3/3 - 0s - loss: 0.0027 - val_loss: 0.0153 - 37ms/epoch - 12ms/step\n"
          ]
        },
        {
          "output_type": "execute_result",
          "data": {
            "text/plain": [
              "<keras.callbacks.History at 0x7f28d2fff2e0>"
            ]
          },
          "metadata": {},
          "execution_count": 29
        }
      ]
    },
    {
      "cell_type": "markdown",
      "source": [
        "# Make predictions"
      ],
      "metadata": {
        "id": "QtkVDV266adu"
      }
    },
    {
      "cell_type": "code",
      "source": [
        "# make predictions"
      ],
      "metadata": {
        "id": "9Q1F9EE96WLk"
      },
      "execution_count": null,
      "outputs": []
    },
    {
      "cell_type": "code",
      "source": [
        "trainPredict = model.predict(trainX)\n",
        "testPredict = model.predict(testX)"
      ],
      "metadata": {
        "colab": {
          "base_uri": "https://localhost:8080/"
        },
        "id": "LsAu9ZcI6WHs",
        "outputId": "5d1beec0-491f-4242-9388-f4d422d95f6c"
      },
      "execution_count": 30,
      "outputs": [
        {
          "output_type": "stream",
          "name": "stdout",
          "text": [
            "3/3 [==============================] - 0s 4ms/step\n",
            "2/2 [==============================] - 0s 7ms/step\n"
          ]
        }
      ]
    },
    {
      "cell_type": "markdown",
      "source": [
        "##### invert predictions back to prescaled values\n",
        "#####This is to compare with original input values\n",
        "#####SInce we used minmaxscaler we can now use scaler.inverse_transform\n",
        "#####to invert the transformation"
      ],
      "metadata": {
        "id": "XYroKTFY7COb"
      }
    },
    {
      "cell_type": "code",
      "source": [
        "trainPredict = scaler.inverse_transform(trainPredict)\n",
        "trainY = scaler.inverse_transform([trainY])\n",
        "testPredict = scaler.inverse_transform(testPredict)\n",
        "testY = scaler.inverse_transform([testY])"
      ],
      "metadata": {
        "id": "v4corZ2f6WES"
      },
      "execution_count": 31,
      "outputs": []
    },
    {
      "cell_type": "code",
      "source": [
        "# calculate root mean squared error\n",
        "trainScore = math.sqrt(mean_squared_error(trainY[0], trainPredict[:,0]))\n",
        "print('Train Score: %.2f RMSE' % (trainScore))"
      ],
      "metadata": {
        "colab": {
          "base_uri": "https://localhost:8080/"
        },
        "id": "wUvMskte6WBA",
        "outputId": "2848a375-c44a-4c37-e2d8-9f16e694e985"
      },
      "execution_count": 32,
      "outputs": [
        {
          "output_type": "stream",
          "name": "stdout",
          "text": [
            "Train Score: 26.64 RMSE\n"
          ]
        }
      ]
    },
    {
      "cell_type": "code",
      "source": [
        "testScore = math.sqrt(mean_squared_error(testY[0], testPredict[:,0]))\n",
        "print('Test Score: %.2f RMSE' % (testScore))"
      ],
      "metadata": {
        "colab": {
          "base_uri": "https://localhost:8080/"
        },
        "id": "bT2LtMCI7mIa",
        "outputId": "b3ed98c8-61b4-4587-e262-8542cf51e0ea"
      },
      "execution_count": 33,
      "outputs": [
        {
          "output_type": "stream",
          "name": "stdout",
          "text": [
            "Test Score: 64.05 RMSE\n"
          ]
        }
      ]
    },
    {
      "cell_type": "code",
      "source": [
        "#shift train predictions for plotting\n",
        "#we must shift the predictions so that they align on the x-axis with the original dataset. \n",
        "trainPredictPlot = np.empty_like(dataset)\n",
        "trainPredictPlot[:, :] = np.nan\n",
        "trainPredictPlot[seq_size:len(trainPredict)+seq_size, :] = trainPredict"
      ],
      "metadata": {
        "id": "sfceuTxP7mFU"
      },
      "execution_count": 34,
      "outputs": []
    },
    {
      "cell_type": "code",
      "source": [
        "#shift test predictions for plotting\n",
        "testPredictPlot = np.empty_like(dataset)\n",
        "testPredictPlot[:, :] = np.nan\n",
        "testPredictPlot[len(trainPredict)+(seq_size*2)+1:len(dataset)-1, :] = testPredict"
      ],
      "metadata": {
        "id": "jAy5yAUr7mCX"
      },
      "execution_count": 35,
      "outputs": []
    },
    {
      "cell_type": "code",
      "source": [
        "# plot baseline and predictions\n",
        "plt.plot(scaler.inverse_transform(dataset))\n",
        "plt.plot(trainPredictPlot)\n",
        "plt.plot(testPredictPlot)\n",
        "plt.show()"
      ],
      "metadata": {
        "colab": {
          "base_uri": "https://localhost:8080/",
          "height": 265
        },
        "id": "b0bDyOYZ7l_C",
        "outputId": "ffa8104d-014d-41ef-bae6-09a86d58fb85"
      },
      "execution_count": 36,
      "outputs": [
        {
          "output_type": "display_data",
          "data": {
            "text/plain": [
              "<Figure size 432x288 with 1 Axes>"
            ],
            "image/png": "[encoded data removed]"
          },
          "metadata": {
            "needs_background": "light"
          }
        }
      ]
    },
    {
      "cell_type": "code",
      "source": [],
      "metadata": {
        "id": "sWIeJyOs7l7S"
      },
      "execution_count": null,
      "outputs": []
    }
  ]
}